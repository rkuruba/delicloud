{
 "cells": [
  {
   "cell_type": "code",
   "execution_count": 1,
   "metadata": {},
   "outputs": [],
   "source": [
    "# Import Dependencies\n",
    "import pandas as pd\n",
    "import csv"
   ]
  },
  {
   "cell_type": "code",
   "execution_count": 2,
   "metadata": {},
   "outputs": [],
   "source": [
    "# Save path to data set in a variable\n",
    "budget_file = \"SampleData100.csv\""
   ]
  },
  {
   "cell_type": "code",
   "execution_count": 4,
   "metadata": {
    "scrolled": false
   },
   "outputs": [
    {
     "data": {
      "text/html": [
       "<style  type=\"text/css\" >\n",
       "    #T_6eb4a6e2_c09c_11ea_87fb_b46bfcdeb885row0_col11 {\n",
       "            : ;\n",
       "            background-color:  lightgreen;\n",
       "        }    #T_6eb4a6e2_c09c_11ea_87fb_b46bfcdeb885row1_col11 {\n",
       "            background-color:  #cd4f39;\n",
       "            : ;\n",
       "        }    #T_6eb4a6e2_c09c_11ea_87fb_b46bfcdeb885row2_col11 {\n",
       "            background-color:  #cd4f39;\n",
       "            : ;\n",
       "        }    #T_6eb4a6e2_c09c_11ea_87fb_b46bfcdeb885row3_col11 {\n",
       "            : ;\n",
       "            background-color:  lightgreen;\n",
       "        }    #T_6eb4a6e2_c09c_11ea_87fb_b46bfcdeb885row4_col11 {\n",
       "            : ;\n",
       "            background-color:  lightgreen;\n",
       "        }</style><table id=\"T_6eb4a6e2_c09c_11ea_87fb_b46bfcdeb885\" ><thead>    <tr>        <th class=\"col_heading level0 col0\" >ID</th>        <th class=\"col_heading level0 col1\" >AddedToHS (S)</th>        <th class=\"col_heading level0 col2\" >Status</th>        <th class=\"col_heading level0 col3\" >Requester</th>        <th class=\"col_heading level0 col4\" >BusinessUnitName</th>        <th class=\"col_heading level0 col5\" >CreatedAt</th>        <th class=\"col_heading level0 col6\" >RequesterName (S)</th>        <th class=\"col_heading level0 col7\" >BusinessUnit (S)</th>        <th class=\"col_heading level0 col8\" >Product</th>        <th class=\"col_heading level0 col9\" >SKU</th>        <th class=\"col_heading level0 col10\" >CloudProvider</th>        <th class=\"col_heading level0 col11\" >CIDRSize</th>        <th class=\"col_heading level0 col12\" >VPCRegion</th>        <th class=\"col_heading level0 col13\" >RiskLevel</th>        <th class=\"col_heading level0 col14\" >Region</th>        <th class=\"col_heading level0 col15\" >ProductType (S)</th>        <th class=\"col_heading level0 col16\" >DataClassification (S)</th>        <th class=\"col_heading level0 col17\" >DXGWRegion (S)</th>        <th class=\"col_heading level0 col18\" >ControlClassification (S)</th>        <th class=\"col_heading level0 col19\" >GEIXRegion (S)</th>    </tr></thead><tbody>\n",
       "                <tr>\n",
       "                                <td id=\"T_6eb4a6e2_c09c_11ea_87fb_b46bfcdeb885row0_col0\" class=\"data row0 col0\" >GERITM123</td>\n",
       "                        <td id=\"T_6eb4a6e2_c09c_11ea_87fb_b46bfcdeb885row0_col1\" class=\"data row0 col1\" >2020-06-17T15:44:39.285305079Z</td>\n",
       "                        <td id=\"T_6eb4a6e2_c09c_11ea_87fb_b46bfcdeb885row0_col2\" class=\"data row0 col2\" >In-Progress</td>\n",
       "                        <td id=\"T_6eb4a6e2_c09c_11ea_87fb_b46bfcdeb885row0_col3\" class=\"data row0 col3\" >212693245</td>\n",
       "                        <td id=\"T_6eb4a6e2_c09c_11ea_87fb_b46bfcdeb885row0_col4\" class=\"data row0 col4\" >Lighting</td>\n",
       "                        <td id=\"T_6eb4a6e2_c09c_11ea_87fb_b46bfcdeb885row0_col5\" class=\"data row0 col5\" >2020-01-29T19:33:43.526Z</td>\n",
       "                        <td id=\"T_6eb4a6e2_c09c_11ea_87fb_b46bfcdeb885row0_col6\" class=\"data row0 col6\" >Michael Palmer</td>\n",
       "                        <td id=\"T_6eb4a6e2_c09c_11ea_87fb_b46bfcdeb885row0_col7\" class=\"data row0 col7\" >GE_LT_001</td>\n",
       "                        <td id=\"T_6eb4a6e2_c09c_11ea_87fb_b46bfcdeb885row0_col8\" class=\"data row0 col8\" >Guardrails</td>\n",
       "                        <td id=\"T_6eb4a6e2_c09c_11ea_87fb_b46bfcdeb885row0_col9\" class=\"data row0 col9\" >Guardrails Standard on AWS</td>\n",
       "                        <td id=\"T_6eb4a6e2_c09c_11ea_87fb_b46bfcdeb885row0_col10\" class=\"data row0 col10\" >AWS</td>\n",
       "                        <td id=\"T_6eb4a6e2_c09c_11ea_87fb_b46bfcdeb885row0_col11\" class=\"data row0 col11\" >512</td>\n",
       "                        <td id=\"T_6eb4a6e2_c09c_11ea_87fb_b46bfcdeb885row0_col12\" class=\"data row0 col12\" >us-east-1</td>\n",
       "                        <td id=\"T_6eb4a6e2_c09c_11ea_87fb_b46bfcdeb885row0_col13\" class=\"data row0 col13\" >Medium</td>\n",
       "                        <td id=\"T_6eb4a6e2_c09c_11ea_87fb_b46bfcdeb885row0_col14\" class=\"data row0 col14\" >Virginia</td>\n",
       "                        <td id=\"T_6eb4a6e2_c09c_11ea_87fb_b46bfcdeb885row0_col15\" class=\"data row0 col15\" >Standard</td>\n",
       "                        <td id=\"T_6eb4a6e2_c09c_11ea_87fb_b46bfcdeb885row0_col16\" class=\"data row0 col16\" >NO CLASSIFICATION</td>\n",
       "                        <td id=\"T_6eb4a6e2_c09c_11ea_87fb_b46bfcdeb885row0_col17\" class=\"data row0 col17\" >us-east-1</td>\n",
       "                        <td id=\"T_6eb4a6e2_c09c_11ea_87fb_b46bfcdeb885row0_col18\" class=\"data row0 col18\" >nan</td>\n",
       "                        <td id=\"T_6eb4a6e2_c09c_11ea_87fb_b46bfcdeb885row0_col19\" class=\"data row0 col19\" >nan</td>\n",
       "            </tr>\n",
       "            <tr>\n",
       "                                <td id=\"T_6eb4a6e2_c09c_11ea_87fb_b46bfcdeb885row1_col0\" class=\"data row1 col0\" >GERITM124</td>\n",
       "                        <td id=\"T_6eb4a6e2_c09c_11ea_87fb_b46bfcdeb885row1_col1\" class=\"data row1 col1\" >2020-06-17T15:46:47.734899816Z</td>\n",
       "                        <td id=\"T_6eb4a6e2_c09c_11ea_87fb_b46bfcdeb885row1_col2\" class=\"data row1 col2\" >New</td>\n",
       "                        <td id=\"T_6eb4a6e2_c09c_11ea_87fb_b46bfcdeb885row1_col3\" class=\"data row1 col3\" >212737221</td>\n",
       "                        <td id=\"T_6eb4a6e2_c09c_11ea_87fb_b46bfcdeb885row1_col4\" class=\"data row1 col4\" >Gas Power</td>\n",
       "                        <td id=\"T_6eb4a6e2_c09c_11ea_87fb_b46bfcdeb885row1_col5\" class=\"data row1 col5\" >2020-05-08T21:07:30.444Z</td>\n",
       "                        <td id=\"T_6eb4a6e2_c09c_11ea_87fb_b46bfcdeb885row1_col6\" class=\"data row1 col6\" >Danielle Garcia</td>\n",
       "                        <td id=\"T_6eb4a6e2_c09c_11ea_87fb_b46bfcdeb885row1_col7\" class=\"data row1 col7\" >GE_PW_001</td>\n",
       "                        <td id=\"T_6eb4a6e2_c09c_11ea_87fb_b46bfcdeb885row1_col8\" class=\"data row1 col8\" >Guardrails</td>\n",
       "                        <td id=\"T_6eb4a6e2_c09c_11ea_87fb_b46bfcdeb885row1_col9\" class=\"data row1 col9\" >Guardrails Limited on AWS</td>\n",
       "                        <td id=\"T_6eb4a6e2_c09c_11ea_87fb_b46bfcdeb885row1_col10\" class=\"data row1 col10\" >AWS</td>\n",
       "                        <td id=\"T_6eb4a6e2_c09c_11ea_87fb_b46bfcdeb885row1_col11\" class=\"data row1 col11\" >256</td>\n",
       "                        <td id=\"T_6eb4a6e2_c09c_11ea_87fb_b46bfcdeb885row1_col12\" class=\"data row1 col12\" >us-east-1</td>\n",
       "                        <td id=\"T_6eb4a6e2_c09c_11ea_87fb_b46bfcdeb885row1_col13\" class=\"data row1 col13\" >nan</td>\n",
       "                        <td id=\"T_6eb4a6e2_c09c_11ea_87fb_b46bfcdeb885row1_col14\" class=\"data row1 col14\" >Virginia</td>\n",
       "                        <td id=\"T_6eb4a6e2_c09c_11ea_87fb_b46bfcdeb885row1_col15\" class=\"data row1 col15\" >nan</td>\n",
       "                        <td id=\"T_6eb4a6e2_c09c_11ea_87fb_b46bfcdeb885row1_col16\" class=\"data row1 col16\" >nan</td>\n",
       "                        <td id=\"T_6eb4a6e2_c09c_11ea_87fb_b46bfcdeb885row1_col17\" class=\"data row1 col17\" >nan</td>\n",
       "                        <td id=\"T_6eb4a6e2_c09c_11ea_87fb_b46bfcdeb885row1_col18\" class=\"data row1 col18\" >nan</td>\n",
       "                        <td id=\"T_6eb4a6e2_c09c_11ea_87fb_b46bfcdeb885row1_col19\" class=\"data row1 col19\" >nan</td>\n",
       "            </tr>\n",
       "            <tr>\n",
       "                                <td id=\"T_6eb4a6e2_c09c_11ea_87fb_b46bfcdeb885row2_col0\" class=\"data row2 col0\" >GERITM125</td>\n",
       "                        <td id=\"T_6eb4a6e2_c09c_11ea_87fb_b46bfcdeb885row2_col1\" class=\"data row2 col1\" >2020-06-17T15:46:05.107681962Z</td>\n",
       "                        <td id=\"T_6eb4a6e2_c09c_11ea_87fb_b46bfcdeb885row2_col2\" class=\"data row2 col2\" >New</td>\n",
       "                        <td id=\"T_6eb4a6e2_c09c_11ea_87fb_b46bfcdeb885row2_col3\" class=\"data row2 col3\" >212738388</td>\n",
       "                        <td id=\"T_6eb4a6e2_c09c_11ea_87fb_b46bfcdeb885row2_col4\" class=\"data row2 col4\" >GE Power</td>\n",
       "                        <td id=\"T_6eb4a6e2_c09c_11ea_87fb_b46bfcdeb885row2_col5\" class=\"data row2 col5\" >2020-01-09T17:03:57.143Z</td>\n",
       "                        <td id=\"T_6eb4a6e2_c09c_11ea_87fb_b46bfcdeb885row2_col6\" class=\"data row2 col6\" >Frank Kimani</td>\n",
       "                        <td id=\"T_6eb4a6e2_c09c_11ea_87fb_b46bfcdeb885row2_col7\" class=\"data row2 col7\" >GE_PW_006</td>\n",
       "                        <td id=\"T_6eb4a6e2_c09c_11ea_87fb_b46bfcdeb885row2_col8\" class=\"data row2 col8\" >Guardrails</td>\n",
       "                        <td id=\"T_6eb4a6e2_c09c_11ea_87fb_b46bfcdeb885row2_col9\" class=\"data row2 col9\" >Guardrails Limited on AWS</td>\n",
       "                        <td id=\"T_6eb4a6e2_c09c_11ea_87fb_b46bfcdeb885row2_col10\" class=\"data row2 col10\" >AWS</td>\n",
       "                        <td id=\"T_6eb4a6e2_c09c_11ea_87fb_b46bfcdeb885row2_col11\" class=\"data row2 col11\" >256</td>\n",
       "                        <td id=\"T_6eb4a6e2_c09c_11ea_87fb_b46bfcdeb885row2_col12\" class=\"data row2 col12\" >us-east-1</td>\n",
       "                        <td id=\"T_6eb4a6e2_c09c_11ea_87fb_b46bfcdeb885row2_col13\" class=\"data row2 col13\" >nan</td>\n",
       "                        <td id=\"T_6eb4a6e2_c09c_11ea_87fb_b46bfcdeb885row2_col14\" class=\"data row2 col14\" >Virginia</td>\n",
       "                        <td id=\"T_6eb4a6e2_c09c_11ea_87fb_b46bfcdeb885row2_col15\" class=\"data row2 col15\" >nan</td>\n",
       "                        <td id=\"T_6eb4a6e2_c09c_11ea_87fb_b46bfcdeb885row2_col16\" class=\"data row2 col16\" >nan</td>\n",
       "                        <td id=\"T_6eb4a6e2_c09c_11ea_87fb_b46bfcdeb885row2_col17\" class=\"data row2 col17\" >nan</td>\n",
       "                        <td id=\"T_6eb4a6e2_c09c_11ea_87fb_b46bfcdeb885row2_col18\" class=\"data row2 col18\" >nan</td>\n",
       "                        <td id=\"T_6eb4a6e2_c09c_11ea_87fb_b46bfcdeb885row2_col19\" class=\"data row2 col19\" >nan</td>\n",
       "            </tr>\n",
       "            <tr>\n",
       "                                <td id=\"T_6eb4a6e2_c09c_11ea_87fb_b46bfcdeb885row3_col0\" class=\"data row3 col0\" >GERITM126</td>\n",
       "                        <td id=\"T_6eb4a6e2_c09c_11ea_87fb_b46bfcdeb885row3_col1\" class=\"data row3 col1\" >2020-06-11T20:32:41.584513651Z</td>\n",
       "                        <td id=\"T_6eb4a6e2_c09c_11ea_87fb_b46bfcdeb885row3_col2\" class=\"data row3 col2\" >New</td>\n",
       "                        <td id=\"T_6eb4a6e2_c09c_11ea_87fb_b46bfcdeb885row3_col3\" class=\"data row3 col3\" >212693245</td>\n",
       "                        <td id=\"T_6eb4a6e2_c09c_11ea_87fb_b46bfcdeb885row3_col4\" class=\"data row3 col4\" >Corporate Cyber</td>\n",
       "                        <td id=\"T_6eb4a6e2_c09c_11ea_87fb_b46bfcdeb885row3_col5\" class=\"data row3 col5\" >2020-06-11T20:32:30.248322191Z</td>\n",
       "                        <td id=\"T_6eb4a6e2_c09c_11ea_87fb_b46bfcdeb885row3_col6\" class=\"data row3 col6\" >Michael Palmer</td>\n",
       "                        <td id=\"T_6eb4a6e2_c09c_11ea_87fb_b46bfcdeb885row3_col7\" class=\"data row3 col7\" >GE_CO_004</td>\n",
       "                        <td id=\"T_6eb4a6e2_c09c_11ea_87fb_b46bfcdeb885row3_col8\" class=\"data row3 col8\" >Guardrails</td>\n",
       "                        <td id=\"T_6eb4a6e2_c09c_11ea_87fb_b46bfcdeb885row3_col9\" class=\"data row3 col9\" >Guardrails Standard on Azure</td>\n",
       "                        <td id=\"T_6eb4a6e2_c09c_11ea_87fb_b46bfcdeb885row3_col10\" class=\"data row3 col10\" >Azure</td>\n",
       "                        <td id=\"T_6eb4a6e2_c09c_11ea_87fb_b46bfcdeb885row3_col11\" class=\"data row3 col11\" >512</td>\n",
       "                        <td id=\"T_6eb4a6e2_c09c_11ea_87fb_b46bfcdeb885row3_col12\" class=\"data row3 col12\" >us-east-1</td>\n",
       "                        <td id=\"T_6eb4a6e2_c09c_11ea_87fb_b46bfcdeb885row3_col13\" class=\"data row3 col13\" >Crown Jewel</td>\n",
       "                        <td id=\"T_6eb4a6e2_c09c_11ea_87fb_b46bfcdeb885row3_col14\" class=\"data row3 col14\" >Virginia</td>\n",
       "                        <td id=\"T_6eb4a6e2_c09c_11ea_87fb_b46bfcdeb885row3_col15\" class=\"data row3 col15\" >nan</td>\n",
       "                        <td id=\"T_6eb4a6e2_c09c_11ea_87fb_b46bfcdeb885row3_col16\" class=\"data row3 col16\" >nan</td>\n",
       "                        <td id=\"T_6eb4a6e2_c09c_11ea_87fb_b46bfcdeb885row3_col17\" class=\"data row3 col17\" >nan</td>\n",
       "                        <td id=\"T_6eb4a6e2_c09c_11ea_87fb_b46bfcdeb885row3_col18\" class=\"data row3 col18\" >nan</td>\n",
       "                        <td id=\"T_6eb4a6e2_c09c_11ea_87fb_b46bfcdeb885row3_col19\" class=\"data row3 col19\" >nan</td>\n",
       "            </tr>\n",
       "            <tr>\n",
       "                                <td id=\"T_6eb4a6e2_c09c_11ea_87fb_b46bfcdeb885row4_col0\" class=\"data row4 col0\" >GERITM127</td>\n",
       "                        <td id=\"T_6eb4a6e2_c09c_11ea_87fb_b46bfcdeb885row4_col1\" class=\"data row4 col1\" >2020-06-17T15:45:07.072840186Z</td>\n",
       "                        <td id=\"T_6eb4a6e2_c09c_11ea_87fb_b46bfcdeb885row4_col2\" class=\"data row4 col2\" >New</td>\n",
       "                        <td id=\"T_6eb4a6e2_c09c_11ea_87fb_b46bfcdeb885row4_col3\" class=\"data row4 col3\" >212737221</td>\n",
       "                        <td id=\"T_6eb4a6e2_c09c_11ea_87fb_b46bfcdeb885row4_col4\" class=\"data row4 col4\" >Steam Power</td>\n",
       "                        <td id=\"T_6eb4a6e2_c09c_11ea_87fb_b46bfcdeb885row4_col5\" class=\"data row4 col5\" >2020-05-08T21:04:38.813Z</td>\n",
       "                        <td id=\"T_6eb4a6e2_c09c_11ea_87fb_b46bfcdeb885row4_col6\" class=\"data row4 col6\" >Danielle Garcia</td>\n",
       "                        <td id=\"T_6eb4a6e2_c09c_11ea_87fb_b46bfcdeb885row4_col7\" class=\"data row4 col7\" >GE_PW_004</td>\n",
       "                        <td id=\"T_6eb4a6e2_c09c_11ea_87fb_b46bfcdeb885row4_col8\" class=\"data row4 col8\" >Guardrails</td>\n",
       "                        <td id=\"T_6eb4a6e2_c09c_11ea_87fb_b46bfcdeb885row4_col9\" class=\"data row4 col9\" >Guardrails Limited on AWS</td>\n",
       "                        <td id=\"T_6eb4a6e2_c09c_11ea_87fb_b46bfcdeb885row4_col10\" class=\"data row4 col10\" >AWS</td>\n",
       "                        <td id=\"T_6eb4a6e2_c09c_11ea_87fb_b46bfcdeb885row4_col11\" class=\"data row4 col11\" >512</td>\n",
       "                        <td id=\"T_6eb4a6e2_c09c_11ea_87fb_b46bfcdeb885row4_col12\" class=\"data row4 col12\" >us-east-1</td>\n",
       "                        <td id=\"T_6eb4a6e2_c09c_11ea_87fb_b46bfcdeb885row4_col13\" class=\"data row4 col13\" >nan</td>\n",
       "                        <td id=\"T_6eb4a6e2_c09c_11ea_87fb_b46bfcdeb885row4_col14\" class=\"data row4 col14\" >Virginia</td>\n",
       "                        <td id=\"T_6eb4a6e2_c09c_11ea_87fb_b46bfcdeb885row4_col15\" class=\"data row4 col15\" >nan</td>\n",
       "                        <td id=\"T_6eb4a6e2_c09c_11ea_87fb_b46bfcdeb885row4_col16\" class=\"data row4 col16\" >nan</td>\n",
       "                        <td id=\"T_6eb4a6e2_c09c_11ea_87fb_b46bfcdeb885row4_col17\" class=\"data row4 col17\" >nan</td>\n",
       "                        <td id=\"T_6eb4a6e2_c09c_11ea_87fb_b46bfcdeb885row4_col18\" class=\"data row4 col18\" >nan</td>\n",
       "                        <td id=\"T_6eb4a6e2_c09c_11ea_87fb_b46bfcdeb885row4_col19\" class=\"data row4 col19\" >nan</td>\n",
       "            </tr>\n",
       "    </tbody></table>"
      ],
      "text/plain": [
       "<pandas.io.formats.style.Styler at 0x2a17a68d388>"
      ]
     },
     "execution_count": 4,
     "metadata": {},
     "output_type": "execute_result"
    }
   ],
   "source": [
    "# Use Pandas to read data\n",
    "budget_file_df = pd.read_csv(budget_file) \n",
    "budget_file_df.head().style.format({\"Profit/Losses\": \"${:0,.2f}\"}).hide_index().highlight_min(color='#cd4f39').highlight_max(color='lightgreen')"
   ]
  },
  {
   "cell_type": "code",
   "execution_count": 272,
   "metadata": {},
   "outputs": [],
   "source": [
    "#  ** create list to iterate through the rows for the variables\n",
    "total_months = []\n",
    "total_profit = []\n",
    "profit_change = []\n",
    "greatest_increase = row[0]\n",
    "lowest_decrease = row[0]"
   ]
  },
  {
   "cell_type": "code",
   "execution_count": 273,
   "metadata": {
    "scrolled": true
   },
   "outputs": [],
   "source": [
    "#print(budget_file_df[\"Profit/Losses\"].max())\n",
    "#print(budget_file_df[\"Profit/Losses\"].min())"
   ]
  },
  {
   "cell_type": "code",
   "execution_count": 274,
   "metadata": {
    "scrolled": true
   },
   "outputs": [],
   "source": [
    "# The total number of months included in the dataset\n",
    "total_months_1 = (len(budget_file_df))"
   ]
  },
  {
   "cell_type": "code",
   "execution_count": 276,
   "metadata": {},
   "outputs": [],
   "source": [
    "# Read the file for total months, profit, change in profit, and get max(increase/decrease) over the entire period\n",
    "\n",
    "#open budget_file\n",
    "with open(budget_file) as csvfile:\n",
    "    csvreader = csv.reader(csvfile)\n",
    "    csv_header = next(csvreader)\n",
    "\n",
    "# Total months and profits\n",
    "    for row in csvreader:\n",
    "         total_months.append(row[0])\n",
    "         total_profit.append(int(row[1]))\n",
    "\n",
    "# For loop through range of data to get changes in profit                    \n",
    "    for i in range(len(total_profit)-1):\n",
    "        profit_change.append(total_profit[i+1]-total_profit[i])\n",
    "\n",
    "# capture max increase/decrease \n",
    "max_increase_value = max(profit_change)\n",
    "max_decrease_value = min(profit_change)\n",
    "\n",
    "max_increase_month = profit_change.index(max(profit_change)) + 1\n",
    "max_decrease_month = profit_change.index(min(profit_change)) + 1\n",
    "                  \n",
    "total = total_profit\n",
    "average = profit_change\n",
    "decrease = lowest_decrease"
   ]
  },
  {
   "cell_type": "code",
   "execution_count": 277,
   "metadata": {},
   "outputs": [
    {
     "name": "stdout",
     "output_type": "stream",
     "text": [
      "Financial Analasis\n",
      "\n",
      "Total Months: 86\n",
      "Total Profit: $38382578\n",
      "Average Change: $-196783\n",
      "Greatest Increase in Profits: Feb-17, ($1926159)\n",
      "Greatest Decrease in Profits: Feb-17, ($-2196167)\n",
      "\n"
     ]
    }
   ],
   "source": [
    "# In addition, your final script should both print the analysis to the terminal and export a text file with the results\n",
    "\n",
    "total_summary = (\n",
    "f'Financial Analasis\\n' \n",
    "f'\\n'\n",
    "f'Total Months: {str(total_months_1)}\\n'\n",
    "f'Total Profit: ${sum(total_profit)}\\n'\n",
    "f'Average Change: ${round(sum(profit_change,2))}\\n'\n",
    "f'Greatest Increase in Profits: {greatest_increase}, (${max_increase_value})\\n'\n",
    "f'Greatest Decrease in Profits: {lowest_decrease}, (${max_decrease_value})\\n'   \n",
    ")\n",
    "\n",
    "#Print the results to terminal\n",
    "print(total_summary) \n",
    "\n",
    "# export results to a TXT file\n",
    "# budget_file_df.to_csv(\"Output/pybankoutput.txt\", index=False, header=True)\n",
    "file = open(\"Output/pybankoutput.txt\", \"w\")\n",
    "file.write(total_summary)\n",
    "file.close()"
   ]
  }
 ],
 "metadata": {
  "kernelspec": {
   "display_name": "Python 3",
   "language": "python",
   "name": "python3"
  },
  "language_info": {
   "codemirror_mode": {
    "name": "ipython",
    "version": 3
   },
   "file_extension": ".py",
   "mimetype": "text/x-python",
   "name": "python",
   "nbconvert_exporter": "python",
   "pygments_lexer": "ipython3",
   "version": "3.7.6"
  }
 },
 "nbformat": 4,
 "nbformat_minor": 2
}
